{
 "cells": [
  {
   "cell_type": "code",
   "execution_count": 1,
   "id": "f57348ed",
   "metadata": {},
   "outputs": [],
   "source": [
    "# Import the random module.\n",
    "import random"
   ]
  },
  {
   "cell_type": "code",
   "execution_count": 2,
   "id": "c209c0e7",
   "metadata": {},
   "outputs": [
    {
     "data": {
      "text/plain": [
       "2"
      ]
     },
     "execution_count": 2,
     "metadata": {},
     "output_type": "execute_result"
    }
   ],
   "source": [
    "# The randint() Function\n",
    "\n",
    "random.randint(-90,90)"
   ]
  },
  {
   "cell_type": "code",
   "execution_count": 3,
   "id": "152333f5",
   "metadata": {},
   "outputs": [
    {
     "data": {
      "text/plain": [
       "0.5395236329726414"
      ]
     },
     "execution_count": 3,
     "metadata": {},
     "output_type": "execute_result"
    }
   ],
   "source": [
    "## The random() Function\n",
    "random.random()"
   ]
  },
  {
   "cell_type": "code",
   "execution_count": 4,
   "id": "4e2b320f",
   "metadata": {},
   "outputs": [
    {
     "data": {
      "text/plain": [
       "33"
      ]
     },
     "execution_count": 4,
     "metadata": {},
     "output_type": "execute_result"
    }
   ],
   "source": [
    "# The randrange() Function\n",
    "random.randrange(-90, 90, step=1)"
   ]
  },
  {
   "cell_type": "code",
   "execution_count": 5,
   "id": "462c5efa",
   "metadata": {},
   "outputs": [
    {
     "data": {
      "text/plain": [
       "-42"
      ]
     },
     "execution_count": 5,
     "metadata": {},
     "output_type": "execute_result"
    }
   ],
   "source": [
    "random.randrange(-90, 90, step=3)"
   ]
  },
  {
   "cell_type": "code",
   "execution_count": 6,
   "id": "eef4f7c0",
   "metadata": {},
   "outputs": [
    {
     "data": {
      "text/plain": [
       "69.92909007494333"
      ]
     },
     "execution_count": 6,
     "metadata": {},
     "output_type": "execute_result"
    }
   ],
   "source": [
    "# The uniform() Function\n",
    "random.uniform(-90, 90)"
   ]
  },
  {
   "cell_type": "code",
   "execution_count": 7,
   "id": "6c5669f0",
   "metadata": {},
   "outputs": [],
   "source": [
    "## The NumPy and random Modules\n",
    "# Import the NumPy module.\n",
    "import numpy as np"
   ]
  },
  {
   "cell_type": "code",
   "execution_count": 8,
   "id": "167162b7",
   "metadata": {},
   "outputs": [
    {
     "data": {
      "text/plain": [
       "79.0952075141771"
      ]
     },
     "execution_count": 8,
     "metadata": {},
     "output_type": "execute_result"
    }
   ],
   "source": [
    "np.random.uniform(-90.000, 90.000)"
   ]
  },
  {
   "cell_type": "code",
   "execution_count": 9,
   "id": "9a7f10a6",
   "metadata": {},
   "outputs": [
    {
     "data": {
      "text/plain": [
       "array([  1.24668046, -60.94185104, -65.06895866,  17.78908424,\n",
       "       -29.13360324,  -4.62354537,  33.77222103,  -3.97194721,\n",
       "        36.4788398 ,  32.61438821,  50.92686318, -54.54665588,\n",
       "        19.25125535, -56.77145194,  33.91194362,  69.73663584,\n",
       "       -59.6929215 ,  -9.62980142, -73.38475309,  75.35457167,\n",
       "       -43.62361289, -11.7794012 ,  82.22297153,  56.27533051,\n",
       "        -2.00625975,  12.47844718,  27.62678516,  44.44560936,\n",
       "        63.37466628,  70.46442555, -57.18411453,  22.60124571,\n",
       "       -47.43161491, -26.1103808 ,  26.9337513 ,  38.37011194,\n",
       "        59.95542692, -64.20972758,  -0.08605407, -63.12286889,\n",
       "       -29.23051406, -33.73342607, -84.06712102, -13.82581207,\n",
       "        60.73275894, -63.9299022 ,   0.6913193 , -63.75219083,\n",
       "       -24.03901187,  13.55340923])"
      ]
     },
     "execution_count": 9,
     "metadata": {},
     "output_type": "execute_result"
    }
   ],
   "source": [
    "np.random.uniform(-90.000, 90.000, size=50)"
   ]
  },
  {
   "cell_type": "code",
   "execution_count": 10,
   "id": "0f3799cb",
   "metadata": {},
   "outputs": [],
   "source": [
    "# First, import the timeit module in a new cell, and run the cell.\n",
    "\n",
    "# Import timeit.\n",
    "import timeit"
   ]
  },
  {
   "cell_type": "code",
   "execution_count": 11,
   "id": "2cbd1b58",
   "metadata": {},
   "outputs": [
    {
     "name": "stdout",
     "output_type": "stream",
     "text": [
      "17.9 µs ± 420 ns per loop (mean ± std. dev. of 7 runs, 100000 loops each)\n"
     ]
    }
   ],
   "source": [
    "%timeit np.random.uniform(-90.000, 90.000, size=1500)"
   ]
  },
  {
   "cell_type": "code",
   "execution_count": 12,
   "id": "eacf4b3b",
   "metadata": {},
   "outputs": [
    {
     "name": "stdout",
     "output_type": "stream",
     "text": [
      "2.64 ms ± 124 µs per loop (mean ± std. dev. of 7 runs, 100 loops each)\n"
     ]
    }
   ],
   "source": [
    "def latitudes(size):\n",
    "    latitudes = []\n",
    "    x = 0\n",
    "    while x < (size):\n",
    "        random_lat = random.randint(-90, 90) + random.random()\n",
    "        latitudes.append(random_lat)\n",
    "        x += 1\n",
    "    return latitudes\n",
    "# Call the function with 1500.\n",
    "%timeit latitudes(1500)"
   ]
  },
  {
   "cell_type": "code",
   "execution_count": null,
   "id": "93347929",
   "metadata": {},
   "outputs": [],
   "source": [
    "## Create Latitude and Longitude Combinations\n"
   ]
  }
 ],
 "metadata": {
  "kernelspec": {
   "display_name": "PythonData",
   "language": "python",
   "name": "pythondata"
  },
  "language_info": {
   "codemirror_mode": {
    "name": "ipython",
    "version": 3
   },
   "file_extension": ".py",
   "mimetype": "text/x-python",
   "name": "python",
   "nbconvert_exporter": "python",
   "pygments_lexer": "ipython3",
   "version": "3.7.10"
  }
 },
 "nbformat": 4,
 "nbformat_minor": 5
}
