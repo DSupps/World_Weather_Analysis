{
 "cells": [
  {
   "cell_type": "code",
   "execution_count": 1,
   "id": "c9fa817b",
   "metadata": {},
   "outputs": [],
   "source": [
    "# Create a practice set of random latitude and longitude combinations.\n",
    "x = [25.12903645, 25.92017388, 26.62509167, -59.98969384, 37.30571269]\n",
    "y = [-67.59741259, 11.09532135, 74.84233102, -76.89176677, -61.13376282]\n",
    "coordinates = zip(x, y)\n",
    "coordinates_list = list(coordinates)"
   ]
  },
  {
   "cell_type": "code",
   "execution_count": 2,
   "id": "1cbfa386",
   "metadata": {
    "scrolled": false
   },
   "outputs": [
    {
     "name": "stdout",
     "output_type": "stream",
     "text": [
      "25.12903645 -67.59741259\n",
      "25.92017388 11.09532135\n",
      "26.62509167 74.84233102\n",
      "-59.98969384 -76.89176677\n",
      "37.30571269 -61.13376282\n"
     ]
    }
   ],
   "source": [
    "# Use the tuple() function to display the latitude and longitude combinations.\n",
    "for coordinate in coordinates_list:\n",
    "    print(coordinate[0], coordinate[1])"
   ]
  },
  {
   "cell_type": "code",
   "execution_count": 3,
   "id": "41e0ee1f",
   "metadata": {},
   "outputs": [],
   "source": [
    "# Use the citipy module to determine city based on latitude and longitude.\n",
    "from citipy import citipy"
   ]
  },
  {
   "cell_type": "code",
   "execution_count": 4,
   "id": "8d9ba8f5",
   "metadata": {},
   "outputs": [],
   "source": [
    "# >>> from citipy import citipy\n",
    "# >>> city = citipy.nearest_city(22.99, 120.21)\n",
    "# >>> city\n",
    "# <citipy.City instance at 0x1069b6518>\n",
    "# >>>\n",
    "# >>> city.city_name     # Tainan, my home town\n",
    "# 'tainan'\n",
    "# >>>\n",
    "# >>> city.country_code\n",
    "# 'tw'                  # And the country is surely Taiwan"
   ]
  },
  {
   "cell_type": "code",
   "execution_count": 7,
   "id": "d846c67d",
   "metadata": {
    "scrolled": true
   },
   "outputs": [
    {
     "name": "stdout",
     "output_type": "stream",
     "text": [
      "cockburn town\n",
      "tc\n",
      "gat\n",
      "ly\n",
      "parvatsar\n",
      "in\n",
      "punta arenas\n",
      "cl\n",
      "saint george\n",
      "bm\n"
     ]
    }
   ],
   "source": [
    "# Use the tuple() function to display the latitude and longitude combinations.\n",
    "for coordinate in coordinates_list:\n",
    "    city = citipy.nearest_city(coordinate[0], coordinate[1])\n",
    "    print(city.city_name)\n",
    "    print(city.country_code)"
   ]
  },
  {
   "cell_type": "code",
   "execution_count": null,
   "id": "510e184a",
   "metadata": {},
   "outputs": [],
   "source": [
    "from citipy import citipy"
   ]
  },
  {
   "cell_type": "code",
   "execution_count": 8,
   "id": "8e552b35",
   "metadata": {},
   "outputs": [
    {
     "data": {
      "text/plain": [
       "5"
      ]
     },
     "execution_count": 8,
     "metadata": {},
     "output_type": "execute_result"
    }
   ],
   "source": [
    "# Create a list for holding the cities.\n",
    "cities = []\n",
    "# Identify the nearest city for each latitude and longitude combination.\n",
    "for coordinate in coordinates_list:\n",
    "    city = citipy.nearest_city(coordinate[0], coordinate[1]).city_name\n",
    "\n",
    "    # If the city is unique, then we will add it to the cities list.\n",
    "    if city not in cities:\n",
    "        cities.append(city)\n",
    "# Print the city count to confirm sufficient count.\n",
    "len(cities)"
   ]
  },
  {
   "cell_type": "code",
   "execution_count": null,
   "id": "1ada8684",
   "metadata": {},
   "outputs": [],
   "source": [
    "# >>> from citipy import citipy\n",
    "# >>> city = citipy.nearest_city(22.99, 120.21)\n",
    "# >>> city\n",
    "# <citipy.City instance at 0x1069b6518>\n",
    "# >>>\n",
    "# >>> city.city_name     # Tainan, my home town\n",
    "# 'tainan'\n",
    "# >>>\n",
    "# >>> city.country_code\n",
    "# 'tw'                  # And the country is surely Taiwan"
   ]
  }
 ],
 "metadata": {
  "kernelspec": {
   "display_name": "PythonData",
   "language": "python",
   "name": "pythondata"
  },
  "language_info": {
   "codemirror_mode": {
    "name": "ipython",
    "version": 3
   },
   "file_extension": ".py",
   "mimetype": "text/x-python",
   "name": "python",
   "nbconvert_exporter": "python",
   "pygments_lexer": "ipython3",
   "version": "3.7.10"
  }
 },
 "nbformat": 4,
 "nbformat_minor": 5
}
